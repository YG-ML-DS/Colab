{
  "nbformat": 4,
  "nbformat_minor": 0,
  "metadata": {
    "colab": {
      "provenance": [],
      "collapsed_sections": [
        "6BumkylnAeeN"
      ],
      "authorship_tag": "ABX9TyOPD8yTIJoiLBIEhgxfJd7O",
      "include_colab_link": true
    },
    "kernelspec": {
      "name": "python3",
      "display_name": "Python 3"
    },
    "language_info": {
      "name": "python"
    }
  },
  "cells": [
    {
      "cell_type": "markdown",
      "metadata": {
        "id": "view-in-github",
        "colab_type": "text"
      },
      "source": [
        "<a href=\"https://colab.research.google.com/github/YG-ML-DS/Py-Colab/blob/main/Py_test.ipynb\" target=\"_parent\"><img src=\"https://colab.research.google.com/assets/colab-badge.svg\" alt=\"Open In Colab\"/></a>"
      ]
    },
    {
      "cell_type": "markdown",
      "source": [
        "# Py basics\n",
        "\n",
        "https://colab.research.google.com/github/cs231n/cs231n.github.io/blob/master/python-colab.ipynb#scrollTo=-D8ARK7tL9gV"
      ],
      "metadata": {
        "id": "6BumkylnAeeN"
      }
    },
    {
      "cell_type": "code",
      "source": [
        "xs = [1, 2, 3]\n",
        "print(xs, xs[0])"
      ],
      "metadata": {
        "colab": {
          "base_uri": "https://localhost:8080/"
        },
        "id": "o0whsUQR4A8F",
        "outputId": "e229e4f6-6f3a-44ab-c24f-1afe8789248e"
      },
      "execution_count": null,
      "outputs": [
        {
          "output_type": "stream",
          "name": "stdout",
          "text": [
            "[1, 2, 3] 1\n"
          ]
        }
      ]
    },
    {
      "cell_type": "code",
      "source": [
        "xs.append(4)\n",
        "print(xs)"
      ],
      "metadata": {
        "colab": {
          "base_uri": "https://localhost:8080/"
        },
        "id": "XXEtGpkJ6Mvt",
        "outputId": "111dcbf6-93f1-4519-f5a5-8ded252da96c"
      },
      "execution_count": null,
      "outputs": [
        {
          "output_type": "stream",
          "name": "stdout",
          "text": [
            "[1, 2, 3, 4]\n"
          ]
        }
      ]
    },
    {
      "cell_type": "code",
      "source": [
        "num = list(range(5))\n",
        "print(num)\n",
        "print(num[2:4])\n",
        "# list"
      ],
      "metadata": {
        "colab": {
          "base_uri": "https://localhost:8080/"
        },
        "id": "rAtnpwYO6ow0",
        "outputId": "ae83d431-0424-4257-bff4-78e9f3910409"
      },
      "execution_count": null,
      "outputs": [
        {
          "output_type": "stream",
          "name": "stdout",
          "text": [
            "[0, 1, 2, 3, 4]\n",
            "[2, 3]\n"
          ]
        }
      ]
    },
    {
      "cell_type": "code",
      "source": [
        "i = ['a', 'b', 'c']\n",
        "for idx, i in enumerate(i):\n",
        "  print('#{}: {}'.format(idx+1, i))\n",
        "# loop"
      ],
      "metadata": {
        "colab": {
          "base_uri": "https://localhost:8080/"
        },
        "id": "vGCMbQCS8JrB",
        "outputId": "8891b306-8825-4f66-b609-69bc4d78eb3b"
      },
      "execution_count": null,
      "outputs": [
        {
          "output_type": "stream",
          "name": "stdout",
          "text": [
            "#1: a\n",
            "#2: b\n",
            "#3: c\n"
          ]
        }
      ]
    },
    {
      "cell_type": "code",
      "source": [
        "num = list(range(5))\n",
        "squares = []\n",
        "for x in num:\n",
        "  squares.append(x**2)\n",
        "print(squares)\n",
        "\n",
        "even_squares = [x**2 for x in num if x%2 ==0]\n",
        "print(even_squares)"
      ],
      "metadata": {
        "colab": {
          "base_uri": "https://localhost:8080/"
        },
        "id": "JIJdb0v98s9i",
        "outputId": "5452d129-000a-461f-9c4b-c8a7f3d31c98"
      },
      "execution_count": null,
      "outputs": [
        {
          "output_type": "stream",
          "name": "stdout",
          "text": [
            "[0, 1, 4, 9, 16]\n",
            "[0, 4, 16]\n"
          ]
        }
      ]
    },
    {
      "cell_type": "code",
      "source": [
        "d = {'cat':'cute'}\n",
        "d['fish'] = 'wet'\n",
        "print(d.get('fish', 'NA'))\n",
        "print(d.get('dog', 'NA'))\n",
        "# dictionary by colon mark"
      ],
      "metadata": {
        "colab": {
          "base_uri": "https://localhost:8080/"
        },
        "id": "z8daa4eUqKpR",
        "outputId": "7ffebca2-7b07-4cdf-ed6f-c71f84448080"
      },
      "execution_count": null,
      "outputs": [
        {
          "output_type": "stream",
          "name": "stdout",
          "text": [
            "wet\n",
            "NA\n"
          ]
        }
      ]
    },
    {
      "cell_type": "code",
      "source": [
        "def sign(x):\n",
        "  if x > 0:\n",
        "    return 'positive'\n",
        "  elif x < 0:\n",
        "    return 'negative'\n",
        "  else:\n",
        "    return '0'\n",
        "\n",
        "for x in [-1, 0, 1]:\n",
        "  print(sign(x))\n",
        "\n",
        "# function"
      ],
      "metadata": {
        "colab": {
          "base_uri": "https://localhost:8080/"
        },
        "id": "66b6-lZSr3om",
        "outputId": "5cc41295-8a27-4732-98ce-7223f0b53975"
      },
      "execution_count": null,
      "outputs": [
        {
          "output_type": "stream",
          "name": "stdout",
          "text": [
            "negative\n",
            "0\n",
            "positive\n"
          ]
        }
      ]
    },
    {
      "cell_type": "code",
      "source": [
        "import numpy as np\n",
        "\n",
        "a = np.array([[1,2,3],[4,5,6]])\n",
        "print(a.shape)\n",
        "print(a[0,0], a[1,1])\n",
        "\n",
        "id = np.eye(3)\n",
        "print(id)\n",
        "\n"
      ],
      "metadata": {
        "colab": {
          "base_uri": "https://localhost:8080/"
        },
        "id": "qP3md103vU0r",
        "outputId": "2a822b2f-56be-4078-a219-cd61634dba3c"
      },
      "execution_count": null,
      "outputs": [
        {
          "output_type": "stream",
          "name": "stdout",
          "text": [
            "(2, 3)\n",
            "1 5\n",
            "[[1. 0. 0.]\n",
            " [0. 1. 0.]\n",
            " [0. 0. 1.]]\n"
          ]
        }
      ]
    },
    {
      "cell_type": "code",
      "source": [
        "b = np.array ([[1,2,3,4], [5,6,7,8], [9,10,11,12]])\n",
        "print(b)\n",
        "print(b.shape)\n",
        "c = b[0:2, 1:3] # [row number, col number] start from 0, exclusive on RHS\n",
        "print(c)\n",
        "\n",
        "row_1 = b[1:2, :]\n",
        "col_1 = b[ : , 1:2]\n",
        "print(row_1, row_1.shape)\n",
        "print(col_1, col_1.shape)"
      ],
      "metadata": {
        "colab": {
          "base_uri": "https://localhost:8080/"
        },
        "id": "npBq5pYq1rOH",
        "outputId": "0b24371e-c39b-439f-ab39-3dfd5850cb4f"
      },
      "execution_count": null,
      "outputs": [
        {
          "output_type": "stream",
          "name": "stdout",
          "text": [
            "[[ 1  2  3  4]\n",
            " [ 5  6  7  8]\n",
            " [ 9 10 11 12]]\n",
            "(3, 4)\n",
            "[[2 3]\n",
            " [6 7]]\n",
            "[[5 6 7 8]] (1, 4)\n",
            "[[ 2]\n",
            " [ 6]\n",
            " [10]] (3, 1)\n"
          ]
        }
      ]
    },
    {
      "cell_type": "code",
      "source": [
        "a = np.array([[1,2], [3, 4], [5, 6]])\n",
        "print(a[[0, 1, 2], [0, 1, 0]]) # [row number], [col number] pickout the number\n",
        "print(a[[0,0], [1,1]])\n",
        "# integer array indexing"
      ],
      "metadata": {
        "colab": {
          "base_uri": "https://localhost:8080/"
        },
        "id": "jroTlPbg8AOX",
        "outputId": "9e7f5bd2-d895-4b16-adf4-31b4617c2f82"
      },
      "execution_count": null,
      "outputs": [
        {
          "output_type": "stream",
          "name": "stdout",
          "text": [
            "[1 4 5]\n",
            "[2 2]\n"
          ]
        }
      ]
    },
    {
      "cell_type": "code",
      "source": [
        "x = np.array([[1,2],[3,4]], dtype=np.float64)\n",
        "y = np.array([[0.1, 0.2], [0.3, 0.4]], dtype=np.float64)\n",
        "\n",
        "print(x+y)\n",
        "print(x*y) # elementwise multiplication\n",
        "print(x@y) # Inner product of vectors;\n",
        "print(x.dot(y))\n",
        "print(x.T)\n",
        "# array calculation"
      ],
      "metadata": {
        "colab": {
          "base_uri": "https://localhost:8080/"
        },
        "id": "puzH0eBWBBGP",
        "outputId": "26f8cc7c-bc5c-402b-c5a5-decd43eb6a48"
      },
      "execution_count": null,
      "outputs": [
        {
          "output_type": "stream",
          "name": "stdout",
          "text": [
            "[[1.1 2.2]\n",
            " [3.3 4.4]]\n",
            "[[0.1 0.4]\n",
            " [0.9 1.6]]\n",
            "[[0.7 1. ]\n",
            " [1.5 2.2]]\n",
            "[[0.7 1. ]\n",
            " [1.5 2.2]]\n",
            "[[1. 3.]\n",
            " [2. 4.]]\n"
          ]
        }
      ]
    },
    {
      "cell_type": "code",
      "source": [
        "import matplotlib.pyplot as plt\n",
        "%matplotlib inline\n",
        "x = np.arange(0, 3 * np.pi, 0.1)\n",
        "y_sin = np.sin(x)\n",
        "y_cos = np.cos(x)\n",
        "\n",
        "plt.plot(x, y_sin)\n",
        "plt.plot(x, y_cos)\n",
        "plt.legend(['sin', 'cos'])\n",
        "\n",
        "plt.subplot(2,1,1)\n",
        "plt.plot(x, y_sin)\n",
        "plt.title('sin')\n",
        "plt.subplot(2,1,2)\n",
        "plt.plot(x, y_cos)\n",
        "plt.title('cos')\n",
        "\n",
        "plt.show()\n",
        "\n"
      ],
      "metadata": {
        "colab": {
          "base_uri": "https://localhost:8080/",
          "height": 452
        },
        "id": "t9--jC0HuJ4g",
        "outputId": "5b4524fa-887d-4eca-9df0-827faa6c062e"
      },
      "execution_count": null,
      "outputs": [
        {
          "output_type": "display_data",
          "data": {
            "text/plain": [
              "<Figure size 640x480 with 3 Axes>"
            ],
            "image/png": "[encoded data removed]"
          },
          "metadata": {}
        }
      ]
    },
    {
      "cell_type": "markdown",
      "source": [
        "# intermeidate - Py for Econ\n",
        "Book 1: Python for Data Science https://aeturrell.github.io/python4DS/introduction.html\n",
        "\n",
        "Book 2: **coding for economists**\n",
        "https://aeturrell.github.io/coding-for-economists/intro.html\n",
        "\n",
        "further step: study machine learning\n",
        "- Machine Learning for Economists - Dario Sansone\n",
        "\n"
      ],
      "metadata": {
        "id": "7l95_K6-40N2"
      }
    },
    {
      "cell_type": "markdown",
      "source": [
        "## B1: Python for Data Science"
      ],
      "metadata": {
        "id": "3FP2Sd1c-bGz"
      }
    },
    {
      "cell_type": "markdown",
      "source": [
        "data: import - clean - transform (calculation) - visualisation and analysis"
      ],
      "metadata": {
        "id": "9aOZ6083C2Re"
      }
    },
    {
      "cell_type": "code",
      "source": [],
      "metadata": {
        "id": "O-1sIHty7ZMX"
      },
      "execution_count": null,
      "outputs": []
    },
    {
      "cell_type": "markdown",
      "source": [
        "## B2: coding for economists"
      ],
      "metadata": {
        "id": "5xl8hmAP-gwr"
      }
    }
  ]
}